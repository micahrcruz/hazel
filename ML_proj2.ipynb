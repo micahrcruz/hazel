{
 "cells": [
  {
   "cell_type": "code",
   "execution_count": 1,
   "metadata": {},
   "outputs": [],
   "source": [
    "from pathlib import Path\n",
    "import numpy as np\n",
    "import pandas as pd\n",
    "import matplotlib.pyplot as plt\n",
    "from random import uniform"
   ]
  },
  {
   "cell_type": "code",
   "execution_count": 2,
   "metadata": {},
   "outputs": [],
   "source": [
    "fpath = Path(\"/home/micah/Documents/machine_learning/project2\")\n",
    "fdata = fpath / \"UTK-peers.csv\""
   ]
  },
  {
   "cell_type": "code",
   "execution_count": 3,
   "metadata": {},
   "outputs": [],
   "source": [
    "data =  pd.read_csv(fdata)"
   ]
  },
  {
   "cell_type": "code",
   "execution_count": 4,
   "metadata": {},
   "outputs": [],
   "source": [
    "names =  list(data)"
   ]
  },
  {
   "cell_type": "code",
   "execution_count": 5,
   "metadata": {},
   "outputs": [],
   "source": [
    "del names[4]\n",
    "del names[2]\n",
    "del names[1]\n",
    "del names[0]"
   ]
  },
  {
   "cell_type": "code",
   "execution_count": 6,
   "metadata": {},
   "outputs": [],
   "source": [
    "matrix = data.to_numpy()"
   ]
  },
  {
   "cell_type": "code",
   "execution_count": 7,
   "metadata": {},
   "outputs": [],
   "source": [
    "colleges = matrix[:,1]\n",
    "ipeds = matrix[:,2]\n",
    "delete = np.arange(57, 187)\n",
    "colleges = np.delete(colleges, delete)\n",
    "ipeds = np.delete(ipeds, delete)\n",
    "ipeds = np.vstack(ipeds).astype(np.float)"
   ]
  },
  {
   "cell_type": "markdown",
   "metadata": {},
   "source": [
    "##### delete the first 3 columns of data, since these are just order number, name, and id number"
   ]
  },
  {
   "cell_type": "code",
   "execution_count": 8,
   "metadata": {},
   "outputs": [],
   "source": [
    "matrix = np.delete(matrix, [0,1,2], axis = 1)"
   ]
  },
  {
   "cell_type": "markdown",
   "metadata": {},
   "source": [
    "##### trim off the 'nan' entries that go from row 58 to the last row"
   ]
  },
  {
   "cell_type": "code",
   "execution_count": 9,
   "metadata": {},
   "outputs": [],
   "source": [
    "del_rows = np.arange(57,187)\n",
    "matrix = np.delete(matrix, del_rows, axis = 0)"
   ]
  },
  {
   "cell_type": "markdown",
   "metadata": {},
   "source": [
    "#### **Need to convert strings to numeric quantities**"
   ]
  },
  {
   "cell_type": "markdown",
   "metadata": {},
   "source": [
    "##### for the 'HBC' column, this can actually be removed entirely, since the entry for every school is 'No', thus it is not a relevant metric to differentiate these schools."
   ]
  },
  {
   "cell_type": "code",
   "execution_count": 10,
   "metadata": {},
   "outputs": [],
   "source": [
    "matrix = np.delete(matrix, 1, axis = 1)"
   ]
  },
  {
   "cell_type": "markdown",
   "metadata": {},
   "source": [
    "##### strip all spaces at beggining and end of string entries"
   ]
  },
  {
   "cell_type": "code",
   "execution_count": 11,
   "metadata": {},
   "outputs": [],
   "source": [
    "for i in range(len(matrix[:,0])):\n",
    "    for j in range(len(matrix[0,:])):\n",
    "        if type(matrix[i,j]) == str:\n",
    "            matrix[i,j] = matrix[i,j].strip()"
   ]
  },
  {
   "cell_type": "markdown",
   "metadata": {},
   "source": [
    "##### for the med school and vet school columns, let 0 mean the college does not have one, 1 means 'pre clin' only, and 2 means they do have one"
   ]
  },
  {
   "cell_type": "code",
   "execution_count": 12,
   "metadata": {},
   "outputs": [],
   "source": [
    "for i in range(57):\n",
    "    if matrix[i,4] == 'pre clin':\n",
    "        matrix[i,4] = 1\n",
    "    if matrix[i,4] == 'x':\n",
    "        matrix[i,4] = 2\n",
    "    if matrix[i,5] == 'x':\n",
    "        matrix[i,5] = 2"
   ]
  },
  {
   "cell_type": "markdown",
   "metadata": {},
   "source": [
    "##### remove all commas and dollar signs from the strings with monetary values"
   ]
  },
  {
   "cell_type": "code",
   "execution_count": 13,
   "metadata": {},
   "outputs": [],
   "source": [
    "for i in range(len(matrix[:,0])):\n",
    "    for j in range(len(matrix[0,:])):\n",
    "        if type(matrix[i,j]) == str:\n",
    "            matrix[i,j] = matrix[i,j].replace(',','')\n",
    "            matrix[i,j] = matrix[i,j].replace('$','')"
   ]
  },
  {
   "cell_type": "markdown",
   "metadata": {},
   "source": [
    "##### any entry of '-' should be changed to nan"
   ]
  },
  {
   "cell_type": "code",
   "execution_count": 14,
   "metadata": {},
   "outputs": [],
   "source": [
    "for i in range(len(matrix[:,0])):\n",
    "    for j in range(len(matrix[0,:])):\n",
    "        if matrix[i,j] == '-':\n",
    "            matrix[i,j] = np.nan"
   ]
  },
  {
   "cell_type": "code",
   "execution_count": 15,
   "metadata": {},
   "outputs": [],
   "source": [
    "for i in range(len(matrix[:,0])):\n",
    "    for j in range(len(matrix[0,:])):\n",
    "        matrix[i,j] = float(matrix[i,j])"
   ]
  },
  {
   "cell_type": "code",
   "execution_count": 16,
   "metadata": {},
   "outputs": [],
   "source": [
    "matrix = np.vstack(matrix).astype(np.float)"
   ]
  },
  {
   "cell_type": "markdown",
   "metadata": {},
   "source": [
    "##### now, find all remaning nan entries, and decide what to do with those values"
   ]
  },
  {
   "cell_type": "code",
   "execution_count": 17,
   "metadata": {},
   "outputs": [],
   "source": [
    "temp = np.zeros(150)"
   ]
  },
  {
   "cell_type": "code",
   "execution_count": 18,
   "metadata": {},
   "outputs": [],
   "source": [
    "k=0\n",
    "for i in range(len(matrix[:,0])):\n",
    "    for j in range(len(matrix[0,:])):\n",
    "        if np.isnan(matrix[i,j]) == True:\n",
    "            temp[k] = j\n",
    "            k += 1"
   ]
  },
  {
   "cell_type": "code",
   "execution_count": 19,
   "metadata": {},
   "outputs": [
    {
     "data": {
      "text/plain": [
       "array([ 0.,  0.,  0.,  0.,  0.,  0.,  0.,  0.,  0.,  0.,  0.,  0.,  0.,\n",
       "        0.,  0.,  0.,  0.,  0.,  4.,  4.,  4.,  4.,  4.,  4.,  4.,  4.,\n",
       "        4.,  4.,  4.,  4.,  4.,  4.,  4.,  4.,  4.,  4.,  4.,  4.,  4.,\n",
       "        4.,  4.,  4.,  4.,  4.,  4.,  5.,  5.,  5.,  5.,  5.,  5.,  5.,\n",
       "        5.,  5.,  5.,  5.,  5.,  5.,  5.,  5.,  5.,  5.,  5.,  5.,  5.,\n",
       "        5.,  5.,  5.,  5.,  5.,  5.,  5.,  5.,  5.,  5.,  5.,  5.,  5.,\n",
       "        5.,  5., 22., 27., 27., 27., 27., 27., 27., 27., 27., 27., 27.,\n",
       "       27., 27., 32., 34., 34., 34., 34., 34., 34., 34., 34., 34., 34.,\n",
       "       34., 34., 34., 34., 34., 34., 34., 34., 34., 34., 41., 41., 51.,\n",
       "       51., 51., 51., 52., 53., 55., 55., 55., 55., 55., 55., 55., 55.,\n",
       "       55., 55., 55., 55., 55., 55., 55., 55., 55., 55., 55., 55., 55.,\n",
       "       55., 55., 55., 56., 56., 56., 56.])"
      ]
     },
     "execution_count": 19,
     "metadata": {},
     "output_type": "execute_result"
    }
   ],
   "source": [
    "temp.sort()\n",
    "temp"
   ]
  },
  {
   "cell_type": "markdown",
   "metadata": {},
   "source": [
    "##### so, there are nan entries in columns 4, 5, 22, 27, 32, 34, 41, 51, 52, 53, 55, and 56"
   ]
  },
  {
   "cell_type": "markdown",
   "metadata": {},
   "source": [
    "##### columns 4 and 5 we have already decided to replace the nan entries with zeros"
   ]
  },
  {
   "cell_type": "code",
   "execution_count": 20,
   "metadata": {},
   "outputs": [],
   "source": [
    "for i in range(len(matrix[:,4])):\n",
    "    if np.isnan(matrix[i,4]) == True:\n",
    "        matrix[i,4] = 0\n",
    "    if np.isnan(matrix[i,5]) == True:\n",
    "        matrix[i,5] = 0"
   ]
  },
  {
   "cell_type": "markdown",
   "metadata": {},
   "source": [
    "##### the rest correspond to Endowment, WSJ rank,  Endowment /St. FTE, AG Research, Faculty Academy Memb, Profess Degrees,  ACT/SAT 25%, ACT/SAT 75%, Med School Res $, and Academic Support Expenditures "
   ]
  },
  {
   "cell_type": "markdown",
   "metadata": {},
   "source": [
    "##### for both endowment and endowment/ st. FTE, the most reasonable replacement for the nan entries would just be the mean of the column"
   ]
  },
  {
   "cell_type": "code",
   "execution_count": 21,
   "metadata": {},
   "outputs": [],
   "source": [
    "mn_temp = matrix[:,22]\n",
    "for i in range(len(matrix[:,22])):\n",
    "    if np.isnan(matrix[i,22]) == True:\n",
    "        mn_temp = np.delete(mn_temp, i)\n",
    "for i in range(len(matrix[:,22])):\n",
    "    if np.isnan(matrix[i,22]) == True:\n",
    "        matrix[i,22] = np.mean(mn_temp)"
   ]
  },
  {
   "cell_type": "code",
   "execution_count": 22,
   "metadata": {},
   "outputs": [],
   "source": [
    "mn_temp = matrix[:,32]\n",
    "for i in range(len(matrix[:,32])):\n",
    "    if np.isnan(matrix[i,32]) == True:\n",
    "        mn_temp = np.delete(mn_temp, i)\n",
    "for i in range(len(matrix[:,32])):\n",
    "    if np.isnan(matrix[i,32]) == True:\n",
    "        matrix[i,32] = np.mean(mn_temp)"
   ]
  },
  {
   "cell_type": "markdown",
   "metadata": {},
   "source": [
    "##### if the WSJ rank entry is nan, then it seems fair to assume that the WSJ would rank that school lower than the other schools with ranks. So then I will assign a value of 500 to all nan entries in WSJ rank, since that is higher than the highest numeric value in this column"
   ]
  },
  {
   "cell_type": "code",
   "execution_count": 23,
   "metadata": {},
   "outputs": [],
   "source": [
    "for i in range(len(matrix[:,27])):\n",
    "    if np.isnan(matrix[i,27]) == True:\n",
    "        matrix[i,27] = 500"
   ]
  },
  {
   "cell_type": "markdown",
   "metadata": {},
   "source": [
    "##### assuming that AG research is referring to agricultural research, then I think it is fair to assume that any nan entries mean that the college does not do agricultural research. Therefore, I will set these entries to 0"
   ]
  },
  {
   "cell_type": "code",
   "execution_count": 24,
   "metadata": {},
   "outputs": [],
   "source": [
    "for i in range(len(matrix[:,34])):\n",
    "    if np.isnan(matrix[i,34]) == True:\n",
    "        matrix[i,34] = 0"
   ]
  },
  {
   "cell_type": "markdown",
   "metadata": {},
   "source": [
    "##### I think it is another fair assumption that if the number of faculty academy members is nan, then it can be set to 0"
   ]
  },
  {
   "cell_type": "code",
   "execution_count": 25,
   "metadata": {},
   "outputs": [],
   "source": [
    "for i in range(len(matrix[:,41])):\n",
    "    if np.isnan(matrix[i,41]) == True:\n",
    "        matrix[i,41] = 0"
   ]
  },
  {
   "cell_type": "markdown",
   "metadata": {},
   "source": [
    "##### if the number of professional degrees is nan, then I assume it can be set to 0. perhaps that college does not offer professional degrees"
   ]
  },
  {
   "cell_type": "code",
   "execution_count": 26,
   "metadata": {},
   "outputs": [],
   "source": [
    "for i in range(len(matrix[:,51])):\n",
    "    if np.isnan(matrix[i,51]) == True:\n",
    "        matrix[i,51] = 0"
   ]
  },
  {
   "cell_type": "markdown",
   "metadata": {},
   "source": [
    "##### for the act/sat scores, I think the only reasonable replacement can be the mean ACT/SAT score"
   ]
  },
  {
   "cell_type": "code",
   "execution_count": 27,
   "metadata": {},
   "outputs": [],
   "source": [
    "mn_temp = matrix[:,52]\n",
    "for i in range(len(matrix[:,52])):\n",
    "    if np.isnan(matrix[i,52]) == True:\n",
    "        mn_temp = np.delete(mn_temp, i)\n",
    "for i in range(len(matrix[:,52])):\n",
    "    if np.isnan(matrix[i,52]) == True:\n",
    "        matrix[i,52] = np.mean(mn_temp)"
   ]
  },
  {
   "cell_type": "code",
   "execution_count": 28,
   "metadata": {},
   "outputs": [],
   "source": [
    "mn_temp = matrix[:,53]\n",
    "for i in range(len(matrix[:,53])):\n",
    "    if np.isnan(matrix[i,53]) == True:\n",
    "        mn_temp = np.delete(mn_temp, i)\n",
    "for i in range(len(matrix[:,53])):\n",
    "    if np.isnan(matrix[i,53]) == True:\n",
    "        matrix[i,53] = np.mean(mn_temp)"
   ]
  },
  {
   "cell_type": "markdown",
   "metadata": {},
   "source": [
    "##### the nans in med school res $ line up exactly with column 4, so I can replace these with 0s"
   ]
  },
  {
   "cell_type": "code",
   "execution_count": 29,
   "metadata": {},
   "outputs": [],
   "source": [
    "for i in range(len(matrix[:,55])):\n",
    "    if np.isnan(matrix[i,55]) == True:\n",
    "        matrix[i,55] = 0"
   ]
  },
  {
   "cell_type": "markdown",
   "metadata": {},
   "source": [
    "##### lastly is the academic support expenditures, which I will just replace the nan values with the column mean"
   ]
  },
  {
   "cell_type": "code",
   "execution_count": 30,
   "metadata": {},
   "outputs": [],
   "source": [
    "for i in range(len(mn_temp)-1):\n",
    "    if np.isnan(mn_temp[i]) == True:\n",
    "        mn_temp = np.delete(mn_temp, i)\n",
    "for i in range(len(matrix[:,56])):\n",
    "    if np.isnan(matrix[i,56]) == True:\n",
    "        matrix[i,56] = np.mean(mn_temp)"
   ]
  },
  {
   "cell_type": "markdown",
   "metadata": {},
   "source": [
    "##### now that all nan values have been removed, I will standardize each column, which will be useful when comparing the many different attributes"
   ]
  },
  {
   "cell_type": "markdown",
   "metadata": {},
   "source": [
    "##### so for each column, subtract the column mean from each entry, and divide by the st. dev"
   ]
  },
  {
   "cell_type": "code",
   "execution_count": 31,
   "metadata": {},
   "outputs": [],
   "source": [
    "means = np.zeros_like(matrix)\n",
    "stds = np.zeros_like(matrix)\n",
    "for i in range(len(matrix[0,:])):\n",
    "    means[:,i] = np.mean(matrix[:,i])\n",
    "    stds[:,i] = np.std(matrix[:,i])"
   ]
  },
  {
   "cell_type": "code",
   "execution_count": 32,
   "metadata": {},
   "outputs": [],
   "source": [
    "temp = matrix - means\n",
    "temp2 = np.zeros_like(temp)\n",
    "for j in range(len(matrix[0,:])):\n",
    "    for i in range(len(matrix[:,0])):\n",
    "        temp2[i,j] = temp[i,j]/stds[i,j]"
   ]
  },
  {
   "cell_type": "code",
   "execution_count": 33,
   "metadata": {},
   "outputs": [],
   "source": [
    "matrix = temp2"
   ]
  },
  {
   "cell_type": "markdown",
   "metadata": {},
   "source": [
    "##### so now the data wrangling is finished. now to factor the data matrix and extract the singular values"
   ]
  },
  {
   "cell_type": "code",
   "execution_count": 34,
   "metadata": {},
   "outputs": [],
   "source": [
    "u, s, vh = np.linalg.svd(matrix, full_matrices = False)"
   ]
  },
  {
   "cell_type": "code",
   "execution_count": 35,
   "metadata": {},
   "outputs": [],
   "source": [
    "order = np.arange(1, len(s)+1)"
   ]
  },
  {
   "cell_type": "markdown",
   "metadata": {},
   "source": [
    "##### now make a scree graph of the singular values"
   ]
  },
  {
   "cell_type": "code",
   "execution_count": 36,
   "metadata": {},
   "outputs": [
    {
     "data": {
      "image/png": "[encoded data removed]",
      "text/plain": [
       "<Figure size 432x288 with 1 Axes>"
      ]
     },
     "metadata": {
      "needs_background": "light"
     },
     "output_type": "display_data"
    }
   ],
   "source": [
    "plt.plot(order, s)\n",
    "plt.title('Scree Graph')\n",
    "plt.xlabel('order')\n",
    "plt.ylabel('Singular Values')\n",
    "fig1 = plt.gcf()"
   ]
  },
  {
   "cell_type": "code",
   "execution_count": 37,
   "metadata": {},
   "outputs": [],
   "source": [
    "variance = np.zeros_like(s)"
   ]
  },
  {
   "cell_type": "code",
   "execution_count": 38,
   "metadata": {},
   "outputs": [],
   "source": [
    "for i in range(len(s)):\n",
    "    variance[i] = s[i]**2"
   ]
  },
  {
   "cell_type": "code",
   "execution_count": 39,
   "metadata": {},
   "outputs": [],
   "source": [
    "total_variance = 0\n",
    "for i in range(len(variance)):\n",
    "    total_variance += variance[i]"
   ]
  },
  {
   "cell_type": "markdown",
   "metadata": {},
   "source": [
    "##### find the percentage of variance covered by first p singular values (call this pvc)"
   ]
  },
  {
   "cell_type": "code",
   "execution_count": 40,
   "metadata": {},
   "outputs": [],
   "source": [
    "pvc = np.zeros_like(variance)\n",
    "for i in range(len(pvc)):\n",
    "    pvc[i] = variance[i] + pvc[i-1]"
   ]
  },
  {
   "cell_type": "code",
   "execution_count": 41,
   "metadata": {},
   "outputs": [],
   "source": [
    "for i in range(len(pvc)):\n",
    "    pvc[i] = pvc[i] / total_variance"
   ]
  },
  {
   "cell_type": "code",
   "execution_count": 42,
   "metadata": {},
   "outputs": [
    {
     "data": {
      "image/png": "[encoded data removed]",
      "text/plain": [
       "<Figure size 432x288 with 1 Axes>"
      ]
     },
     "metadata": {
      "needs_background": "light"
     },
     "output_type": "display_data"
    }
   ],
   "source": [
    "plt.plot(order, pvc)\n",
    "plt.title('Percentage of variance covered by first p PCs')\n",
    "plt.xlabel('p')\n",
    "plt.ylabel('cumulative variance percentage')\n",
    "fig2 = plt.gcf()"
   ]
  },
  {
   "cell_type": "markdown",
   "metadata": {},
   "source": [
    "##### from the scree plot and the graph of percentage variance, choose the first 12 principal components, since over 90% of the variance is covered by this selection, and it is near the \"elbow\" of the scree graph."
   ]
  },
  {
   "cell_type": "code",
   "execution_count": 43,
   "metadata": {},
   "outputs": [],
   "source": [
    "v = np.transpose(vh)"
   ]
  },
  {
   "cell_type": "code",
   "execution_count": 44,
   "metadata": {},
   "outputs": [],
   "source": [
    "delete = np.arange(12,57)\n",
    "v = np.delete(v, delete, axis=1)"
   ]
  },
  {
   "cell_type": "code",
   "execution_count": 45,
   "metadata": {},
   "outputs": [],
   "source": [
    "reduced_data = matrix @ v"
   ]
  },
  {
   "cell_type": "markdown",
   "metadata": {},
   "source": [
    "##### now we have reduced the original data to 12 orthogonal principal components."
   ]
  },
  {
   "cell_type": "code",
   "execution_count": 46,
   "metadata": {},
   "outputs": [
    {
     "data": {
      "image/png": "[encoded data removed]",
      "text/plain": [
       "<Figure size 432x288 with 1 Axes>"
      ]
     },
     "metadata": {
      "needs_background": "light"
     },
     "output_type": "display_data"
    }
   ],
   "source": [
    "x = reduced_data[:,0] \n",
    "y = reduced_data[:,1]\n",
    "n = np.arange(0, len(x))\n",
    "fig, ax = plt.subplots()\n",
    "ax.scatter(x,y)\n",
    "for i, txt in enumerate(n):\n",
    "    ax.annotate(txt, (x[i], y[i]))\n",
    "plt.title('Scatter plot of first two PCs')\n",
    "fig3 = plt.gcf()"
   ]
  },
  {
   "cell_type": "markdown",
   "metadata": {},
   "source": [
    "##### the schools are annotated with their number, as in the first column of the original data"
   ]
  },
  {
   "cell_type": "markdown",
   "metadata": {},
   "source": [
    "### **now to design and implement a k-means clustering algorithm**"
   ]
  },
  {
   "cell_type": "code",
   "execution_count": 47,
   "metadata": {},
   "outputs": [],
   "source": [
    "class k_means:\n",
    "    def __init__(self, data, k):\n",
    "        self.data = data\n",
    "        self.k = k\n",
    "    def fit(self):\n",
    "        x = self.data\n",
    "        k = self.k\n",
    "        axes = len(x[0,:])\n",
    "        entries = len(x[:,0])\n",
    "        cluster_nums = np.arange(1, k+1)\n",
    "        max_iter = 100\n",
    "        distances = np.zeros(k)\n",
    "        centroids = np.zeros((k, axes))\n",
    "        rg = np.zeros(axes)\n",
    "        clusters = np.zeros(entries)\n",
    "        old_clust = np.zeros(entries)\n",
    "        cluster_pts = np.zeros(k)\n",
    "        con1 = True\n",
    "        con2 = True\n",
    "        iters = 0\n",
    "        dummy = 0\n",
    "        d = 0\n",
    "        min_inter = 10000\n",
    "        max_intra = 0\n",
    "        dunn = 0\n",
    "        \n",
    "        # set each centroid coordinate to be the mean of its respective column\n",
    "        for i in range(k):\n",
    "            for j in range(axes):\n",
    "                centroids[i,j] = np.mean(x[:,j])\n",
    "                rg[j] = np.max(x[:,j]) - np.min(x[:,j])\n",
    "        # now loop back through and add random numbers to the centroid coordinates\n",
    "        for i in range(k):\n",
    "            for j in range(axes):\n",
    "                centroids[i,j] = centroids[i,j] + uniform(-rg[j]/2, rg[j]/2)\n",
    "        # so now, each centroid should be in a random and different location\n",
    "        \n",
    "        # start our while loop, as this is where the program will begin learning\n",
    "        while con1 == True and con2 == True:\n",
    "            for i in range(len(old_clust)):\n",
    "                old_clust[i] = clusters[i]\n",
    "            # now, assign each point to its closest centroid\n",
    "            for i in range(entries):\n",
    "                for j in range(k):\n",
    "                    distances[j] = np.linalg.norm(x[i,:]-centroids[j,:])\n",
    "                for m in range(k):\n",
    "                    if distances[m] == np.min(distances):\n",
    "                        clusters[i] = cluster_nums[m]\n",
    "            # now, recalculate the centroids of the newly formed clusters\n",
    "            # first, sum all of the coordinates for each point in a cluster\n",
    "            # also count the number of points in each cluster\n",
    "            tmp = np.zeros_like(centroids)\n",
    "            for m in range(k):\n",
    "                for i in range(entries):\n",
    "                    if clusters[i]-1 == m:\n",
    "                        tmp[m,:] += x[i,:]\n",
    "                        cluster_pts[m] += 1\n",
    "            # now divide each sum by its number of points\n",
    "            for m in range(k):\n",
    "                centroids[m,:] = tmp[m,:]/cluster_pts[m]\n",
    "            iters += 1\n",
    "            # stop the loop if the max number of iterations is reached\n",
    "            if iters == max_iter:\n",
    "                con1 = False\n",
    "            # stop the loop if the cluster assignments have not changed\n",
    "            for i in range(len(clusters)):\n",
    "                if old_clust[i] != clusters[i]:\n",
    "                    dummy += 1\n",
    "            # reset our counting variables at the end of the loop\n",
    "            if dummy == 0:\n",
    "                con2 = False\n",
    "            else:\n",
    "                dummy = 0\n",
    "                for m  in range(k):\n",
    "                    cluster_pts[m] = 0\n",
    "        #finally, calculate the dunn index and print it\n",
    "        for i in range(entries):\n",
    "            for j in range(entries):\n",
    "                d = np.linalg.norm(x[i,:]-x[j,:])\n",
    "                if clusters[i] != clusters[j] and i != j:\n",
    "                    if d < min_inter:\n",
    "                        min_inter = d\n",
    "                if clusters[i] == clusters[j] and i != j:\n",
    "                    if d > max_intra:\n",
    "                        max_intra = d\n",
    "        dunn = min_inter / max_intra\n",
    "        min_inter = round(min_inter, 3)\n",
    "        max_intra = round(max_intra, 3)\n",
    "        dunn = round(dunn, 3)\n",
    "        print(\"minimal intercluster distance = \" + str(min_inter))\n",
    "        print(\"maximum intracluster distance = \" + str(max_intra))\n",
    "        print(\"dunn index = \" + str(dunn))\n",
    "        print(\"iterations required for convergence = \" + str(iters))\n",
    "        return clusters"
   ]
  },
  {
   "cell_type": "markdown",
   "metadata": {},
   "source": [
    "##### **cluster the data that has been reduced to p principal components**"
   ]
  },
  {
   "cell_type": "code",
   "execution_count": 259,
   "metadata": {},
   "outputs": [],
   "source": [
    "reduced_test = k_means(reduced_data, 3)"
   ]
  },
  {
   "cell_type": "code",
   "execution_count": 260,
   "metadata": {},
   "outputs": [
    {
     "name": "stdout",
     "output_type": "stream",
     "text": [
      "minimal intercluster distance = 3.647\n",
      "maximum intracluster distance = 17.491\n",
      "dunn index = 0.209\n",
      "iterations required for convergence = 5\n"
     ]
    }
   ],
   "source": [
    "red_clusters = reduced_test.fit()"
   ]
  },
  {
   "cell_type": "code",
   "execution_count": 261,
   "metadata": {},
   "outputs": [],
   "source": [
    "colorlist = ['b','g','r','c','m','y','tan','lime','pink','silver']\n",
    "colors = list()\n",
    "for i in range(len(red_clusters)):\n",
    "    if red_clusters[i] ==1:\n",
    "        colors.append(colorlist[1])\n",
    "    if red_clusters[i] ==2:\n",
    "        colors.append(colorlist[2])\n",
    "    if red_clusters[i] ==3:\n",
    "        colors.append(colorlist[3])\n",
    "    if red_clusters[i] ==4:\n",
    "        colors.append(colorlist[4])\n",
    "    if red_clusters[i] ==5:\n",
    "        colors.append(colorlist[5])\n",
    "    if red_clusters[i] ==6:\n",
    "        colors.append(colorlist[6])\n",
    "    if red_clusters[i] ==7:\n",
    "        colors.append(colorlist[7])\n",
    "    if red_clusters[i] ==8:\n",
    "        colors.append(colorlist[8])\n",
    "    if red_clusters[i] ==9:\n",
    "        colors.append(colorlist[9])\n",
    "    if red_clusters[i] ==10:\n",
    "        colors.append(colorlist[10])"
   ]
  },
  {
   "cell_type": "markdown",
   "metadata": {},
   "source": [
    "##### 3 clusters looks like a good fit, since the dunn index does not get noticeably higher for higher cluster numbers, and the clusters are visually distinct"
   ]
  },
  {
   "cell_type": "code",
   "execution_count": 262,
   "metadata": {},
   "outputs": [
    {
     "data": {
      "image/png": "[encoded data removed]",
      "text/plain": [
       "<Figure size 432x288 with 1 Axes>"
      ]
     },
     "metadata": {
      "needs_background": "light"
     },
     "output_type": "display_data"
    }
   ],
   "source": [
    "x = reduced_data[:,0] \n",
    "y = reduced_data[:,1]\n",
    "fig, ax = plt.subplots()\n",
    "for i in range(len(x)):\n",
    "    plt.scatter(x[i],y[i], c = colors[i])\n",
    "plt.title('Clustering for p PCs')\n",
    "fig4 = plt.gcf()"
   ]
  },
  {
   "cell_type": "code",
   "execution_count": 204,
   "metadata": {},
   "outputs": [
    {
     "name": "stdout",
     "output_type": "stream",
     "text": [
      "colleges clustered with UT:\n",
      "Clemson Univ.\n",
      "Auburn Univ.\n",
      "Iowa State Univ.\n",
      "Univ. of California - Santa Barbara\n",
      "Louisiana State Univ. \n",
      "Mississippi State Univ.\n",
      "Univ. of Alabama \n",
      "Univ. of Arkansas -\n",
      "Univ. of Mississippi\n",
      "Univ. of South Carolina \n",
      "Univ. of Oklahoma \n",
      "Univ. of Nebraska \n",
      "Delaware\n",
      "Colorado State\n",
      "U. of Massachusetts\n",
      "Univ. of Colorado \n",
      "Univ. of Oregon \n",
      "UC-Riverside\n"
     ]
    }
   ],
   "source": [
    "print(\"colleges clustered with UT:\")\n",
    "for i in range(len(red_clusters)):\n",
    "    if red_clusters[i] == red_clusters[0] and i != 0:\n",
    "        print(colleges[i])"
   ]
  },
  {
   "cell_type": "markdown",
   "metadata": {},
   "source": [
    "##### **now let's try clustering the original data set**"
   ]
  },
  {
   "cell_type": "code",
   "execution_count": 189,
   "metadata": {},
   "outputs": [],
   "source": [
    "test = k_means(matrix, 3)"
   ]
  },
  {
   "cell_type": "code",
   "execution_count": 190,
   "metadata": {},
   "outputs": [
    {
     "name": "stdout",
     "output_type": "stream",
     "text": [
      "minimal intercluster distance = 4.484\n",
      "maximum intracluster distance = 19.195\n",
      "dunn index = 0.234\n",
      "iterations required for convergence = 5\n"
     ]
    }
   ],
   "source": [
    "clusters = test.fit()"
   ]
  },
  {
   "cell_type": "code",
   "execution_count": 241,
   "metadata": {},
   "outputs": [],
   "source": [
    "colorlist = ['b','g','r','c','m','y','tan','lime','pink','silver']\n",
    "colors = list()\n",
    "for i in range(len(clusters)):\n",
    "    if clusters[i] ==1:\n",
    "        colors.append(colorlist[1])\n",
    "    if clusters[i] ==2:\n",
    "        colors.append(colorlist[2])\n",
    "    if clusters[i] ==3:\n",
    "        colors.append(colorlist[3])\n",
    "    if clusters[i] ==4:\n",
    "        colors.append(colorlist[4])\n",
    "    if clusters[i] ==5:\n",
    "        colors.append(colorlist[5])\n",
    "    if clusters[i] ==6:\n",
    "        colors.append(colorlist[6])\n",
    "    if clusters[i] ==7:\n",
    "        colors.append(colorlist[7])\n",
    "    if clusters[i] ==8:\n",
    "        colors.append(colorlist[8])\n",
    "    if clusters[i] ==9:\n",
    "        colors.append(colorlist[9])\n",
    "    if clusters[i] ==10:\n",
    "        colors.append(colorlist[10])"
   ]
  },
  {
   "cell_type": "code",
   "execution_count": 242,
   "metadata": {},
   "outputs": [
    {
     "data": {
      "image/png": "[encoded data removed]",
      "text/plain": [
       "<Figure size 432x288 with 1 Axes>"
      ]
     },
     "metadata": {
      "needs_background": "light"
     },
     "output_type": "display_data"
    }
   ],
   "source": [
    "x = reduced_data[:,0] \n",
    "y = reduced_data[:,1]\n",
    "fig, ax = plt.subplots()\n",
    "for i in range(len(x)):\n",
    "    plt.scatter(x[i],y[i], c = colors[i])\n",
    "plt.title('Clustering the base data')\n",
    "fig5 = plt.gcf()"
   ]
  },
  {
   "cell_type": "code",
   "execution_count": 202,
   "metadata": {},
   "outputs": [
    {
     "name": "stdout",
     "output_type": "stream",
     "text": [
      "colleges clustered with UT: \n",
      "Univ. of Georgia\n",
      "Clemson Univ.\n",
      "Auburn Univ.\n",
      "Iowa State Univ.\n",
      "NC State Univ.\n",
      "Univ. of California - Santa Barbara\n",
      "Louisiana State Univ. \n",
      "Virginia Tech\n",
      "Univ. of Kentucky\n",
      "Mississippi State Univ.\n",
      "Univ. of Missouri \n",
      "Univ. of Alabama \n",
      "Univ. of Arkansas -\n",
      "Univ. of Mississippi\n",
      "Univ. of South Carolina \n",
      "Florida State Univ. \n",
      "Univ. of Oklahoma \n",
      "Univ. of Nebraska \n",
      "Delaware\n",
      "Colorado State\n",
      "Univ. of Kansas \n",
      "U. of Massachusetts\n",
      "Univ. of Colorado \n",
      "Univ. of Oregon \n",
      "SUNY - Stony Brook\n",
      "UC-Irvine\n",
      "Connecticut\n",
      " Iowa\n",
      "Buffalo\n",
      "UC-Riverside\n"
     ]
    }
   ],
   "source": [
    "print(\"colleges clustered with UT: \")\n",
    "for i in range(len(clusters)):\n",
    "    if clusters[i] == clusters[0] and i != 0:\n",
    "        print(colleges[i])"
   ]
  },
  {
   "cell_type": "markdown",
   "metadata": {},
   "source": [
    "##### **lastly, cluster based on only the first 2 PCs**"
   ]
  },
  {
   "cell_type": "code",
   "execution_count": 215,
   "metadata": {},
   "outputs": [],
   "source": [
    "two_pc_data = np.zeros((57,2))\n",
    "two_pc_data[:,0] = reduced_data[:,0]\n",
    "two_pc_data[:,1] = reduced_data[:,1]"
   ]
  },
  {
   "cell_type": "code",
   "execution_count": 227,
   "metadata": {},
   "outputs": [],
   "source": [
    "two_pc_test = k_means(two_pc_data, 3)"
   ]
  },
  {
   "cell_type": "code",
   "execution_count": 228,
   "metadata": {},
   "outputs": [
    {
     "name": "stdout",
     "output_type": "stream",
     "text": [
      "minimal intercluster distance = 0.458\n",
      "maximum intracluster distance = 14.434\n",
      "dunn index = 0.032\n",
      "iterations required for convergence = 6\n"
     ]
    }
   ],
   "source": [
    "two_pc_clusters = two_pc_test.fit()"
   ]
  },
  {
   "cell_type": "code",
   "execution_count": 243,
   "metadata": {},
   "outputs": [],
   "source": [
    "colorlist = ['b','g','r','c','m','y','tan','lime','pink','silver']\n",
    "colors = list()\n",
    "for i in range(len(clusters)):\n",
    "    if two_pc_clusters[i] ==1:\n",
    "        colors.append(colorlist[1])\n",
    "    if two_pc_clusters[i] ==2:\n",
    "        colors.append(colorlist[2])\n",
    "    if two_pc_clusters[i] ==3:\n",
    "        colors.append(colorlist[3])\n",
    "    if two_pc_clusters[i] ==4:\n",
    "        colors.append(colorlist[4])\n",
    "    if two_pc_clusters[i] ==5:\n",
    "        colors.append(colorlist[5])\n",
    "    if two_pc_clusters[i] ==6:\n",
    "        colors.append(colorlist[6])\n",
    "    if two_pc_clusters[i] ==7:\n",
    "        colors.append(colorlist[7])\n",
    "    if two_pc_clusters[i] ==8:\n",
    "        colors.append(colorlist[8])\n",
    "    if two_pc_clusters[i] ==9:\n",
    "        colors.append(colorlist[9])\n",
    "    if two_pc_clusters[i] ==10:\n",
    "        colors.append(colorlist[10])"
   ]
  },
  {
   "cell_type": "code",
   "execution_count": 244,
   "metadata": {},
   "outputs": [
    {
     "data": {
      "image/png": "[encoded data removed]",
      "text/plain": [
       "<Figure size 432x288 with 1 Axes>"
      ]
     },
     "metadata": {
      "needs_background": "light"
     },
     "output_type": "display_data"
    }
   ],
   "source": [
    "x = reduced_data[:,0] \n",
    "y = reduced_data[:,1]\n",
    "fig, ax = plt.subplots()\n",
    "for i in range(len(x)):\n",
    "    plt.scatter(x[i],y[i], c = colors[i])\n",
    "plt.title('Clustering the first two PCs')\n",
    "fig6 = plt.gcf()"
   ]
  },
  {
   "cell_type": "code",
   "execution_count": 233,
   "metadata": {},
   "outputs": [
    {
     "name": "stdout",
     "output_type": "stream",
     "text": [
      "colleges clustered with UT: \n",
      "Clemson Univ.\n",
      "Auburn Univ.\n",
      "Iowa State Univ.\n",
      "Univ. of California - Santa Barbara\n",
      "Louisiana State Univ. \n",
      "Mississippi State Univ.\n",
      "Univ. of Alabama \n",
      "Univ. of Arkansas -\n",
      "Univ. of Mississippi\n",
      "Univ. of South Carolina \n",
      "Univ. of Oklahoma \n",
      "Univ. of Nebraska \n",
      "Delaware\n",
      "Colorado State\n",
      "U. of Massachusetts\n",
      "Univ. of Oregon \n",
      "UC-Riverside\n"
     ]
    }
   ],
   "source": [
    "print(\"colleges clustered with UT: \")\n",
    "for i in range(len(two_pc_clusters)):\n",
    "    if two_pc_clusters[i] == two_pc_clusters[0] and i != 0:\n",
    "        print(colleges[i])"
   ]
  },
  {
   "cell_type": "markdown",
   "metadata": {},
   "source": [
    "##### save plots as png"
   ]
  }
 ],
 "metadata": {
  "kernelspec": {
   "display_name": "Python 3",
   "language": "python",
   "name": "python3"
  },
  "language_info": {
   "codemirror_mode": {
    "name": "ipython",
    "version": 3
   },
   "file_extension": ".py",
   "mimetype": "text/x-python",
   "name": "python",
   "nbconvert_exporter": "python",
   "pygments_lexer": "ipython3",
   "version": "3.7.3"
  }
 },
 "nbformat": 4,
 "nbformat_minor": 4
}
