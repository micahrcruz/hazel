{
 "cells": [
  {
   "cell_type": "markdown",
   "metadata": {},
   "source": [
    "# Autoencoder"
   ]
  },
  {
   "cell_type": "markdown",
   "metadata": {},
   "source": [
    "### Imports"
   ]
  },
  {
   "cell_type": "code",
   "execution_count": 1,
   "metadata": {},
   "outputs": [],
   "source": [
    "import matplotlib.pyplot as plt"
   ]
  },
  {
   "cell_type": "code",
   "execution_count": 2,
   "metadata": {},
   "outputs": [],
   "source": [
    "import numpy as np"
   ]
  },
  {
   "cell_type": "code",
   "execution_count": 3,
   "metadata": {},
   "outputs": [
    {
     "name": "stderr",
     "output_type": "stream",
     "text": [
      "Using TensorFlow backend.\n"
     ]
    }
   ],
   "source": [
    "from keras.models import Model"
   ]
  },
  {
   "cell_type": "code",
   "execution_count": 4,
   "metadata": {},
   "outputs": [],
   "source": [
    "from keras.layers import Input, Dense, Conv1D, Flatten, Reshape, UpSampling1D, MaxPool1D"
   ]
  },
  {
   "cell_type": "markdown",
   "metadata": {},
   "source": [
    "## Read in Ca45 data"
   ]
  },
  {
   "cell_type": "code",
   "execution_count": 5,
   "metadata": {},
   "outputs": [],
   "source": [
    "import numba as nb"
   ]
  },
  {
   "cell_type": "code",
   "execution_count": 6,
   "metadata": {},
   "outputs": [],
   "source": [
    "def readData(fileName):\n",
    "    dt = np.dtype([('header', '33c'), ('wf', '3500h')])\n",
    "    s = os.stat(fileName)\n",
    "    N = int((s.st_size - 8)/7033)\n",
    "    with open(fileName, 'rb') as file:\n",
    "        theader = np.core.records.fromfile(file,formats='Q',shape=1,byteorder='<')[0][0]\n",
    "        file.seek(8)\n",
    "        data = np.core.records.fromfile(file, dtype=dt ,shape=N,byteorder='<')\n",
    "    return data['wf']"
   ]
  },
  {
   "cell_type": "code",
   "execution_count": 7,
   "metadata": {},
   "outputs": [],
   "source": [
    "import os"
   ]
  },
  {
   "cell_type": "code",
   "execution_count": 8,
   "metadata": {},
   "outputs": [],
   "source": [
    "data = readData('./Run_00120_11.bin')"
   ]
  },
  {
   "cell_type": "code",
   "execution_count": 9,
   "metadata": {},
   "outputs": [],
   "source": [
    "@nb.jit(cache=True, nopython=True)\n",
    "def bitLogic(x):\n",
    "    for i in range(3500):\n",
    "        x[i] &= 16383\n",
    "        if x[i]>8191:\n",
    "            x[i] -= 16384"
   ]
  },
  {
   "cell_type": "code",
   "execution_count": 10,
   "metadata": {},
   "outputs": [],
   "source": [
    "for i in range(len(data)):\n",
    "    bitLogic(data[i])"
   ]
  },
  {
   "cell_type": "code",
   "execution_count": 11,
   "metadata": {},
   "outputs": [],
   "source": [
    "@nb.jit(cache=True, nopython=True)\n",
    "def normBatch(x):\n",
    "    base = np.mean(x[:400])\n",
    "    for i in range(len(x)): x[i] = x[i] - base\n",
    "    top = np.amax(x)\n",
    "    for i in range(len(x)): x[i] = x[i] / top"
   ]
  },
  {
   "cell_type": "code",
   "execution_count": 12,
   "metadata": {},
   "outputs": [],
   "source": [
    "data = data[(np.amax(data,1) - np.amin(data,1))>1000]"
   ]
  },
  {
   "cell_type": "code",
   "execution_count": 13,
   "metadata": {},
   "outputs": [],
   "source": [
    "data = data.astype(np.float32)"
   ]
  },
  {
   "cell_type": "code",
   "execution_count": 14,
   "metadata": {},
   "outputs": [],
   "source": [
    "normBatch(data[-2002])"
   ]
  },
  {
   "cell_type": "code",
   "execution_count": 15,
   "metadata": {},
   "outputs": [],
   "source": [
    "for i in range(len(data)): normBatch(data[i])"
   ]
  },
  {
   "cell_type": "code",
   "execution_count": 16,
   "metadata": {},
   "outputs": [],
   "source": [
    "np.random.shuffle(data)"
   ]
  },
  {
   "cell_type": "code",
   "execution_count": 17,
   "metadata": {},
   "outputs": [
    {
     "data": {
      "text/plain": [
       "[<matplotlib.lines.Line2D at 0x7fb132404090>]"
      ]
     },
     "execution_count": 17,
     "metadata": {},
     "output_type": "execute_result"
    },
    {
     "data": {
      "image/png": "[encoded data removed]",
      "text/plain": [
       "<Figure size 432x288 with 1 Axes>"
      ]
     },
     "metadata": {
      "needs_background": "light"
     },
     "output_type": "display_data"
    }
   ],
   "source": [
    "plt.plot(data[0])"
   ]
  },
  {
   "cell_type": "code",
   "execution_count": 18,
   "metadata": {},
   "outputs": [],
   "source": [
    "from sklearn.cluster import KMeans"
   ]
  },
  {
   "cell_type": "code",
   "execution_count": 22,
   "metadata": {},
   "outputs": [],
   "source": [
    "kmeans = KMeans(n_clusters=2, n_jobs=4)"
   ]
  },
  {
   "cell_type": "code",
   "execution_count": 23,
   "metadata": {},
   "outputs": [
    {
     "data": {
      "text/plain": [
       "(32254, 3500)"
      ]
     },
     "execution_count": 23,
     "metadata": {},
     "output_type": "execute_result"
    }
   ],
   "source": [
    "data.shape"
   ]
  },
  {
   "cell_type": "code",
   "execution_count": 24,
   "metadata": {},
   "outputs": [],
   "source": [
    "np.random.shuffle(data)"
   ]
  },
  {
   "cell_type": "code",
   "execution_count": 26,
   "metadata": {},
   "outputs": [
    {
     "data": {
      "text/plain": [
       "KMeans(algorithm='auto', copy_x=True, init='k-means++', max_iter=300,\n",
       "       n_clusters=2, n_init=10, n_jobs=4, precompute_distances='auto',\n",
       "       random_state=None, tol=0.0001, verbose=0)"
      ]
     },
     "execution_count": 26,
     "metadata": {},
     "output_type": "execute_result"
    }
   ],
   "source": [
    "kmeans.fit(data[:10**4])"
   ]
  },
  {
   "cell_type": "code",
   "execution_count": 28,
   "metadata": {},
   "outputs": [
    {
     "data": {
      "text/plain": [
       "<matplotlib.legend.Legend at 0x7fb12fd17e90>"
      ]
     },
     "execution_count": 28,
     "metadata": {},
     "output_type": "execute_result"
    },
    {
     "data": {
      "image/png": "[encoded data removed]",
      "text/plain": [
       "<Figure size 432x288 with 1 Axes>"
      ]
     },
     "metadata": {
      "needs_background": "light"
     },
     "output_type": "display_data"
    }
   ],
   "source": [
    "for i in range(len(kmeans.cluster_centers_)): plt.plot(kmeans.cluster_centers_[i], label=i);\n",
    "plt.legend()"
   ]
  },
  {
   "cell_type": "code",
   "execution_count": 29,
   "metadata": {},
   "outputs": [],
   "source": [
    "data = data[kmeans.predict(data)==0]"
   ]
  },
  {
   "cell_type": "code",
   "execution_count": 30,
   "metadata": {},
   "outputs": [
    {
     "data": {
      "text/plain": [
       "2.9482"
      ]
     },
     "execution_count": 30,
     "metadata": {},
     "output_type": "execute_result"
    }
   ],
   "source": [
    "data.shape[0]/1e4"
   ]
  },
  {
   "cell_type": "markdown",
   "metadata": {},
   "source": [
    "## Apply Autoencoder"
   ]
  },
  {
   "cell_type": "markdown",
   "metadata": {},
   "source": [
    "Set up the input size and the bottleneck"
   ]
  },
  {
   "cell_type": "code",
   "execution_count": 32,
   "metadata": {},
   "outputs": [],
   "source": [
    "input_shape = data.shape[1]\n",
    "bottleneck = 5"
   ]
  },
  {
   "cell_type": "code",
   "execution_count": 33,
   "metadata": {},
   "outputs": [],
   "source": [
    "# this is our input placeholder\n",
    "input_img = Input(shape=(input_shape,))\n",
    "\n",
    "# encoder\n",
    "encoded = Reshape((-1, 1))(input_img)\n",
    "\n",
    "encoded = Conv1D(16, 8, activation='relu', padding='same')(encoded)\n",
    "encoded = MaxPool1D(5, padding='same')(encoded)\n",
    "\n",
    "encoded = Conv1D(16, 8, activation='relu', padding='same')(encoded)\n",
    "encoded = MaxPool1D(5, padding='same')(encoded)\n",
    "\n",
    "encoded = Conv1D(16, 8, activation='relu', padding='same')(encoded)\n",
    "encoded = MaxPool1D(5, padding='same')(encoded)\n",
    "\n",
    "encoded = Conv1D(16, 8, activation='relu', padding='same')(encoded)\n",
    "encoded = MaxPool1D(2, padding='same')(encoded)\n",
    "\n",
    "encoded = Conv1D(1, 8, activation='relu', padding='same')(encoded)\n",
    "encoded = MaxPool1D(2, padding='same')(encoded)\n",
    "\n",
    "# bottleneck \n",
    "encoded = Flatten()(encoded)\n",
    "encoded = Dense(bottleneck, activation='relu', name='Bottleneck')(encoded)\n",
    "decoded = Dense(7, activation='relu')(encoded)\n",
    "decoded = Reshape((-1,1))(decoded)\n",
    "\n",
    "# decoder\n",
    "decoded = UpSampling1D(2)(decoded)\n",
    "decoded = Conv1D(1, 8, activation='relu', padding='same')(decoded)\n",
    "\n",
    "decoded = UpSampling1D(2)(decoded)\n",
    "decoded = Conv1D(16, 8, activation='relu', padding='same')(decoded)\n",
    "\n",
    "decoded = UpSampling1D(5)(decoded)\n",
    "decoded = Conv1D(16, 8, activation='relu', padding='same')(decoded)\n",
    "\n",
    "decoded = UpSampling1D(5)(decoded)\n",
    "decoded = Conv1D(16, 8, activation='relu', padding='same')(decoded)\n",
    "\n",
    "decoded = UpSampling1D(5)(decoded)\n",
    "decoded = Conv1D(1, 8, activation='sigmoid', padding='same')(decoded)\n",
    "\n",
    "decoded = Flatten()(decoded)\n",
    "\n",
    "autoencoder = Model(input_img, decoded)"
   ]
  },
  {
   "cell_type": "code",
   "execution_count": 34,
   "metadata": {},
   "outputs": [
    {
     "name": "stdout",
     "output_type": "stream",
     "text": [
      "Model: \"model_1\"\n",
      "_________________________________________________________________\n",
      "Layer (type)                 Output Shape              Param #   \n",
      "=================================================================\n",
      "input_1 (InputLayer)         (None, 3500)              0         \n",
      "_________________________________________________________________\n",
      "reshape_1 (Reshape)          (None, 3500, 1)           0         \n",
      "_________________________________________________________________\n",
      "conv1d_1 (Conv1D)            (None, 3500, 16)          144       \n",
      "_________________________________________________________________\n",
      "max_pooling1d_1 (MaxPooling1 (None, 700, 16)           0         \n",
      "_________________________________________________________________\n",
      "conv1d_2 (Conv1D)            (None, 700, 16)           2064      \n",
      "_________________________________________________________________\n",
      "max_pooling1d_2 (MaxPooling1 (None, 140, 16)           0         \n",
      "_________________________________________________________________\n",
      "conv1d_3 (Conv1D)            (None, 140, 16)           2064      \n",
      "_________________________________________________________________\n",
      "max_pooling1d_3 (MaxPooling1 (None, 28, 16)            0         \n",
      "_________________________________________________________________\n",
      "conv1d_4 (Conv1D)            (None, 28, 16)            2064      \n",
      "_________________________________________________________________\n",
      "max_pooling1d_4 (MaxPooling1 (None, 14, 16)            0         \n",
      "_________________________________________________________________\n",
      "conv1d_5 (Conv1D)            (None, 14, 1)             129       \n",
      "_________________________________________________________________\n",
      "max_pooling1d_5 (MaxPooling1 (None, 7, 1)              0         \n",
      "_________________________________________________________________\n",
      "flatten_1 (Flatten)          (None, 7)                 0         \n",
      "_________________________________________________________________\n",
      "Bottleneck (Dense)           (None, 5)                 40        \n",
      "_________________________________________________________________\n",
      "dense_1 (Dense)              (None, 7)                 42        \n",
      "_________________________________________________________________\n",
      "reshape_2 (Reshape)          (None, 7, 1)              0         \n",
      "_________________________________________________________________\n",
      "up_sampling1d_1 (UpSampling1 (None, 14, 1)             0         \n",
      "_________________________________________________________________\n",
      "conv1d_6 (Conv1D)            (None, 14, 1)             9         \n",
      "_________________________________________________________________\n",
      "up_sampling1d_2 (UpSampling1 (None, 28, 1)             0         \n",
      "_________________________________________________________________\n",
      "conv1d_7 (Conv1D)            (None, 28, 16)            144       \n",
      "_________________________________________________________________\n",
      "up_sampling1d_3 (UpSampling1 (None, 140, 16)           0         \n",
      "_________________________________________________________________\n",
      "conv1d_8 (Conv1D)            (None, 140, 16)           2064      \n",
      "_________________________________________________________________\n",
      "up_sampling1d_4 (UpSampling1 (None, 700, 16)           0         \n",
      "_________________________________________________________________\n",
      "conv1d_9 (Conv1D)            (None, 700, 16)           2064      \n",
      "_________________________________________________________________\n",
      "up_sampling1d_5 (UpSampling1 (None, 3500, 16)          0         \n",
      "_________________________________________________________________\n",
      "conv1d_10 (Conv1D)           (None, 3500, 1)           129       \n",
      "_________________________________________________________________\n",
      "flatten_2 (Flatten)          (None, 3500)              0         \n",
      "=================================================================\n",
      "Total params: 10,957\n",
      "Trainable params: 10,957\n",
      "Non-trainable params: 0\n",
      "_________________________________________________________________\n"
     ]
    }
   ],
   "source": [
    "autoencoder.summary()"
   ]
  },
  {
   "cell_type": "code",
   "execution_count": 35,
   "metadata": {},
   "outputs": [],
   "source": [
    "autoencoder.compile(optimizer='adadelta',loss='mse')"
   ]
  },
  {
   "cell_type": "code",
   "execution_count": 36,
   "metadata": {},
   "outputs": [
    {
     "name": "stdout",
     "output_type": "stream",
     "text": [
      "Train on 8000 samples, validate on 2000 samples\n",
      "Epoch 1/10\n",
      "8000/8000 [==============================] - 17s 2ms/step - loss: 0.0249 - val_loss: 0.0073\n",
      "Epoch 2/10\n",
      "8000/8000 [==============================] - 16s 2ms/step - loss: 0.0053 - val_loss: 0.0059\n",
      "Epoch 3/10\n",
      "8000/8000 [==============================] - 17s 2ms/step - loss: 0.0044 - val_loss: 0.0057\n",
      "Epoch 4/10\n",
      "8000/8000 [==============================] - 16s 2ms/step - loss: 0.0040 - val_loss: 0.0047\n",
      "Epoch 5/10\n",
      "8000/8000 [==============================] - 16s 2ms/step - loss: 0.0038 - val_loss: 0.0058\n",
      "Epoch 6/10\n",
      "8000/8000 [==============================] - 16s 2ms/step - loss: 0.0039 - val_loss: 0.0047\n",
      "Epoch 7/10\n",
      "8000/8000 [==============================] - 16s 2ms/step - loss: 0.0037 - val_loss: 0.0046\n",
      "Epoch 8/10\n",
      "8000/8000 [==============================] - 16s 2ms/step - loss: 0.0035 - val_loss: 0.0043\n",
      "Epoch 9/10\n",
      "8000/8000 [==============================] - 16s 2ms/step - loss: 0.0035 - val_loss: 0.0053\n",
      "Epoch 10/10\n",
      "8000/8000 [==============================] - 17s 2ms/step - loss: 0.0035 - val_loss: 0.0043\n"
     ]
    },
    {
     "data": {
      "text/plain": [
       "<keras.callbacks.callbacks.History at 0x7fb12c0c2c10>"
      ]
     },
     "execution_count": 36,
     "metadata": {},
     "output_type": "execute_result"
    }
   ],
   "source": [
    "autoencoder.fit(data[:10**4],data[:10**4],epochs=10,validation_split=.2,use_multiprocessing=True)"
   ]
  },
  {
   "cell_type": "code",
   "execution_count": null,
   "metadata": {},
   "outputs": [],
   "source": []
  },
  {
   "cell_type": "code",
   "execution_count": 37,
   "metadata": {},
   "outputs": [
    {
     "data": {
      "text/plain": [
       "[<matplotlib.lines.Line2D at 0x7fb12799ae10>]"
      ]
     },
     "execution_count": 37,
     "metadata": {},
     "output_type": "execute_result"
    },
    {
     "data": {
      "image/png": "[encoded data removed]",
      "text/plain": [
       "<Figure size 432x288 with 1 Axes>"
      ]
     },
     "metadata": {
      "needs_background": "light"
     },
     "output_type": "display_data"
    }
   ],
   "source": [
    "z = data[np.random.choice(np.arange(len(data)))]\n",
    "plt.plot(z)\n",
    "plt.plot(autoencoder.predict(z.reshape(1,-1)).flatten())"
   ]
  },
  {
   "cell_type": "markdown",
   "metadata": {},
   "source": [
    "Extract the encoder"
   ]
  },
  {
   "cell_type": "code",
   "execution_count": 38,
   "metadata": {},
   "outputs": [],
   "source": [
    "# this model maps an input to its encoded representation\n",
    "encoder = Model(input_img, encoded)\n",
    "\n",
    "# create a placeholder for an encoded (32-dimensional) input\n",
    "encoded_input = Input(shape=(bottleneck,))"
   ]
  },
  {
   "cell_type": "code",
   "execution_count": 39,
   "metadata": {},
   "outputs": [
    {
     "data": {
      "text/plain": [
       "array([0.       , 4.648502 , 0.       , 5.193701 , 0.       , 0.       ,\n",
       "       3.3914196, 0.       , 5.0170236, 0.       ], dtype=float32)"
      ]
     },
     "execution_count": 39,
     "metadata": {},
     "output_type": "execute_result"
    }
   ],
   "source": [
    "encoder.predict(data[:2]).flatten()"
   ]
  },
  {
   "cell_type": "markdown",
   "metadata": {},
   "source": [
    "Extract the decoder"
   ]
  },
  {
   "cell_type": "code",
   "execution_count": 40,
   "metadata": {},
   "outputs": [],
   "source": [
    "l = len(autoencoder.layers) - len(Model(input_img, encoded).layers)"
   ]
  },
  {
   "cell_type": "code",
   "execution_count": 41,
   "metadata": {},
   "outputs": [],
   "source": [
    "a = Input(shape=(bottleneck,))"
   ]
  },
  {
   "cell_type": "code",
   "execution_count": 42,
   "metadata": {},
   "outputs": [],
   "source": [
    "b = autoencoder.layers[-l](a)\n",
    "for i in range(1,l):\n",
    "    b = autoencoder.layers[-l:][i](b)"
   ]
  },
  {
   "cell_type": "code",
   "execution_count": 43,
   "metadata": {},
   "outputs": [],
   "source": [
    "m = Model(a, b)"
   ]
  },
  {
   "cell_type": "markdown",
   "metadata": {},
   "source": [
    "Make sure the extractions are right"
   ]
  },
  {
   "cell_type": "code",
   "execution_count": 44,
   "metadata": {},
   "outputs": [
    {
     "data": {
      "text/plain": [
       "[<matplotlib.lines.Line2D at 0x7fb127875cd0>]"
      ]
     },
     "execution_count": 44,
     "metadata": {},
     "output_type": "execute_result"
    },
    {
     "data": {
      "image/png": "[encoded data removed]",
      "text/plain": [
       "<Figure size 432x288 with 1 Axes>"
      ]
     },
     "metadata": {
      "needs_background": "light"
     },
     "output_type": "display_data"
    }
   ],
   "source": [
    "z = data[np.random.choice(np.arange(len(data)))]\n",
    "plt.plot(autoencoder.predict(z.reshape(1,-1)).flatten())\n",
    "plt.plot(m.predict(encoder.predict(z.reshape(1,-1))).flatten())"
   ]
  },
  {
   "cell_type": "code",
   "execution_count": null,
   "metadata": {},
   "outputs": [],
   "source": []
  }
 ],
 "metadata": {
  "kernelspec": {
   "display_name": "Python 3",
   "language": "python",
   "name": "python3"
  },
  "language_info": {
   "codemirror_mode": {
    "name": "ipython",
    "version": 3
   },
   "file_extension": ".py",
   "mimetype": "text/x-python",
   "name": "python",
   "nbconvert_exporter": "python",
   "pygments_lexer": "ipython3",
   "version": "3.7.4"
  }
 },
 "nbformat": 4,
 "nbformat_minor": 4
}
